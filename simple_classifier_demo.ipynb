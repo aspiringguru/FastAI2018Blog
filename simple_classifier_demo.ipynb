{
 "cells": [
  {
   "cell_type": "code",
   "execution_count": 17,
   "metadata": {
    "collapsed": true
   },
   "outputs": [],
   "source": [
    "from sklearn.ensemble import RandomForestClassifier\n",
    "import numpy as np\n",
    "from sklearn.metrics import accuracy_score"
   ]
  },
  {
   "cell_type": "code",
   "execution_count": 3,
   "metadata": {
    "collapsed": true
   },
   "outputs": [],
   "source": [
    "# Get sample dataset from sklearn datasets\n",
    "from sklearn import datasets\n",
    "cancer = datasets.load_breast_cancer()\n",
    "X = cancer.data # (m,n) numpy array \n",
    "y = cancer.target # (m,) numpy array"
   ]
  },
  {
   "cell_type": "code",
   "execution_count": 13,
   "metadata": {},
   "outputs": [
    {
     "name": "stdout",
     "output_type": "stream",
     "text": [
      "<class 'sklearn.utils.Bunch'>\n",
      "X=cancer.data: <class 'numpy.ndarray'> (569, 30)\n",
      "y=cancer.target: <class 'numpy.ndarray'> (569,)\n"
     ]
    }
   ],
   "source": [
    "print (type(cancer))\n",
    "print (\"X=cancer.data:\",type(X), X.shape)\n",
    "print (\"y=cancer.target:\", type(y), y.shape)"
   ]
  },
  {
   "cell_type": "code",
   "execution_count": 14,
   "metadata": {},
   "outputs": [
    {
     "name": "stdout",
     "output_type": "stream",
     "text": [
      "[  1.79900000e+01   1.03800000e+01   1.22800000e+02   1.00100000e+03\n",
      "   1.18400000e-01   2.77600000e-01   3.00100000e-01   1.47100000e-01\n",
      "   2.41900000e-01   7.87100000e-02   1.09500000e+00   9.05300000e-01\n",
      "   8.58900000e+00   1.53400000e+02   6.39900000e-03   4.90400000e-02\n",
      "   5.37300000e-02   1.58700000e-02   3.00300000e-02   6.19300000e-03\n",
      "   2.53800000e+01   1.73300000e+01   1.84600000e+02   2.01900000e+03\n",
      "   1.62200000e-01   6.65600000e-01   7.11900000e-01   2.65400000e-01\n",
      "   4.60100000e-01   1.18900000e-01]\n",
      "[0 0 0 0 0]\n",
      "unique values in y: [0 1]\n"
     ]
    }
   ],
   "source": [
    "#quick exploration of data.\n",
    "print (X[0])\n",
    "print (y[0:5])\n",
    "print (\"unique values in y:\", np.unique(y))"
   ]
  },
  {
   "cell_type": "code",
   "execution_count": 16,
   "metadata": {},
   "outputs": [
    {
     "name": "stdout",
     "output_type": "stream",
     "text": [
      "Predicted classes first five elements: [0 0 0 0 0]\n",
      "Actual    classes first five elements: [0 0 0 0 0]\n",
      "[ 1.   1.   1.   0.9  1. ]\n",
      "[ 0.   0.   0.   0.1  0. ]\n"
     ]
    }
   ],
   "source": [
    "# Create an instance of the classifier we want to use\n",
    "clf = RandomForestClassifier()\n",
    " \n",
    "clf.fit(X,y)\n",
    "preds = clf.predict(X)\n",
    "\n",
    "print(\"Predicted classes first five elements:\", preds[:5,]) # Predicted classes\n",
    "print(\"Actual    classes first five elements:\", y[:5,]) # Actual classes\n",
    "\n",
    "pred_proba = clf.predict_proba(X)\n",
    "print(pred_proba[:5,0]) # Probability of zero\n",
    "print(pred_proba[:5,1]) # Probability of one"
   ]
  },
  {
   "cell_type": "code",
   "execution_count": 19,
   "metadata": {},
   "outputs": [
    {
     "data": {
      "text/plain": [
       "0.99824253075571179"
      ]
     },
     "execution_count": 19,
     "metadata": {},
     "output_type": "execute_result"
    }
   ],
   "source": [
    "#simple assessment of accuracy.\n",
    "accuracy_score(y, preds)"
   ]
  },
  {
   "cell_type": "code",
   "execution_count": null,
   "metadata": {
    "collapsed": true
   },
   "outputs": [],
   "source": []
  }
 ],
 "metadata": {
  "kernelspec": {
   "display_name": "Python 3",
   "language": "python",
   "name": "python3"
  },
  "language_info": {
   "codemirror_mode": {
    "name": "ipython",
    "version": 3
   },
   "file_extension": ".py",
   "mimetype": "text/x-python",
   "name": "python",
   "nbconvert_exporter": "python",
   "pygments_lexer": "ipython3",
   "version": "3.6.1"
  }
 },
 "nbformat": 4,
 "nbformat_minor": 2
}
